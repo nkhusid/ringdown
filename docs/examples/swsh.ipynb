{
 "cells": [
  {
   "cell_type": "code",
   "execution_count": 2,
   "metadata": {},
   "outputs": [],
   "source": [
    "import jax.numpy as jnp\n",
    "from jax.scipy.special import factorial as fac\n",
    "\n",
    "import numpy as np"
   ]
  },
  {
   "cell_type": "markdown",
   "metadata": {},
   "source": [
    "JAX does factorial for JAX arrays on its own! No more need for `tens_factorial`."
   ]
  },
  {
   "cell_type": "markdown",
   "metadata": {},
   "source": [
    "To calculate binomial coefficients, `jax_binom_coeff` turns `tens_binom` into (basically) one line:"
   ]
  },
  {
   "cell_type": "code",
   "execution_count": 3,
   "metadata": {},
   "outputs": [],
   "source": [
    "def jax_binom_coeff(n, k):\n",
    "    \"\"\"Returns binomial coefficient, `n choose k`.\n",
    "    \n",
    "    Arguments\n",
    "    ---------\n",
    "    n: int\n",
    "      number of possibilities\n",
    "    k: int\n",
    "      number of unordered outcomes to choose\n",
    "    \"\"\"\n",
    "\n",
    "    coeff = round(fac(n)) / round((fac(k)) * round(fac(n-k)))\n",
    "\n",
    "    check_nk = jnp.isinf(coeff) # check if k > n, set answer to zero\n",
    "\n",
    "    coeff = jnp.where(check_nk, 0, coeff)\n",
    "\n",
    "    return coeff"
   ]
  },
  {
   "cell_type": "code",
   "execution_count": 131,
   "metadata": {},
   "outputs": [],
   "source": [
    "def sp_w_ylm(s, l, m):\n",
    "    \"\"\"Returns spin-weighted (l, m) spherical harmonic with spin weight s, as a function of cosi.\n",
    "     \n",
    "    Arguments\n",
    "    ---------\n",
    "    s: int\n",
    "        spin weight of the sYlm, -2 for GWs\n",
    "    l: JAX array\n",
    "        l index of each QNM to be included in the model\n",
    "    m: JAX array\n",
    "        l index of each QNM to be included in the model\n",
    "    \"\"\"\n",
    "    \n",
    "    ## with phi = 0\n",
    "    ## th == np.arccos(cosi)\n",
    "    \n",
    "    r = l - s\n",
    "    \n",
    "    def _get_rs(r):\n",
    "        shape = len(r)\n",
    "        leng = max(r) + 1\n",
    "        coll = jnp.broadcast_to(jnp.arange(leng), (shape, leng)).swapaxes(0,1)\n",
    "\n",
    "        return coll\n",
    "    \n",
    "    rs = _get_rs(r)\n",
    "    \n",
    "    def sin_th_2(cosi):\n",
    "        return jnp.sqrt((1-cosi)/2)\n",
    "    \n",
    "    def cos_th_2(cosi):\n",
    "        return jnp.sqrt((1+cosi)/2)\n",
    "    \n",
    "    def cot_th_2(cosi):\n",
    "        return cos_th_2(cosi)/sin_th_2(cosi)\n",
    "    \n",
    "    swsh = lambda cosi: ((-1)**(l+m-s) * jnp.sqrt(fac(l+m)*\n",
    "                                                  fac(l-m)*\n",
    "                                                  ((2*l)+1)/\n",
    "                                                  (4*jnp.pi)/\n",
    "                                                  fac(l+s)/\n",
    "                                                  fac(l-s)) * (sin_th_2(cosi))**(2*l) * jnp.sum(jnp.array([(-1)**n * jax_binom_coeff(l-s, n) * jax_binom_coeff(l+s, n+s-m) * (cot_th_2(cosi))**((2*n)+s-m) \n",
    "                                                                                                                            for n in rs]), axis=0))\n",
    "    \n",
    "    return lambda cosi: swsh(cosi) * np.sqrt(1/0.1587577) # normalization constant"
   ]
  },
  {
   "cell_type": "code",
   "execution_count": 101,
   "metadata": {},
   "outputs": [],
   "source": [
    "def sp_w_ylm_p(cosi, l, m):\n",
    "    \"\"\"Returns (+) spin-weighted angular factor\"\"\"\n",
    "    return (sp_w_ylm(-2, l, m)(cosi) + sp_w_ylm(-2, l, m)(-cosi)) * np.sqrt(5/np.pi) # sqrt(5/pi) to match normalization in Isi & Farr (2021)"
   ]
  },
  {
   "cell_type": "code",
   "execution_count": 6,
   "metadata": {},
   "outputs": [],
   "source": [
    "def sp_w_ylm_c(cosi, l, m):\n",
    "    \"\"\"Returns (x) spin-weighted angular factor\"\"\"\n",
    "    return (sp_w_ylm(-2, l, m)(cosi) - sp_w_ylm(-2, l, m)(jnp.cos(jnp.pi-jnp.arccos(cosi)))) * np.sqrt(5/np.pi)"
   ]
  },
  {
   "cell_type": "markdown",
   "metadata": {},
   "source": [
    "Within `model.py`, it is more convenient to implement `sp_w_ylm_p` and `sp_w_ylm_c` to return functions of `cosi`, similar to `sp_w_ylm` itself:"
   ]
  },
  {
   "cell_type": "code",
   "execution_count": 102,
   "metadata": {},
   "outputs": [],
   "source": [
    "def calc_Yp(cosi, swsh):\n",
    "    \"\"\"Returns (+) angular factor for aligned model\"\"\"\n",
    "    return (swsh(cosi) + swsh(-cosi)) * jnp.sqrt(5/jnp.pi) # sqrt(5/pi) to match normalization in Isi & Farr (2021)\n",
    "\n",
    "def calc_Yc(cosi, swsh):\n",
    "    \"\"\"Returns (x) angular factor for aligned model\"\"\"\n",
    "    return (swsh(cosi) - swsh(-cosi)) * jnp.sqrt(5/jnp.pi)"
   ]
  },
  {
   "cell_type": "markdown",
   "metadata": {},
   "source": [
    "The above matches the the SWSH calculations that were written up using `aesara`! And below, agreement with the hardcoded  $l=m=2$  angular factors from the original aligned model code. Ready for implementation in `ringdown` jaxify branch."
   ]
  },
  {
   "cell_type": "code",
   "execution_count": 134,
   "metadata": {},
   "outputs": [],
   "source": [
    "cosi = 0.5\n",
    "\n",
    "l = jnp.array([2])\n",
    "m = jnp.array([2])\n",
    "swsh = sp_w_ylm(-2, l, m)\n",
    "\n",
    "p = calc_Yp(cosi, swsh)\n",
    "c = calc_Yc(cosi, swsh)\n",
    "\n",
    "hcp = (1 + (cosi)**2)\n",
    "hcc = 2 * cosi"
   ]
  },
  {
   "cell_type": "code",
   "execution_count": 135,
   "metadata": {},
   "outputs": [
    {
     "name": "stdout",
     "output_type": "stream",
     "text": [
      "JAX (+) angular factor : hardcoded (+) angular factor = [0.99860257]\n",
      "JAX (x) angular factor : hardcoded (x) angular factor = [0.99860257]\n"
     ]
    }
   ],
   "source": [
    "print(f'JAX (+) angular factor : hardcoded (+) angular factor = {(p/hcp)}')\n",
    "print(f'JAX (x) angular factor : hardcoded (x) angular factor = {(c/hcc)}')"
   ]
  },
  {
   "cell_type": "code",
   "execution_count": 136,
   "metadata": {},
   "outputs": [
    {
     "name": "stdout",
     "output_type": "stream",
     "text": [
      "Percent error compared to hardcoded (+) angular factor = 0.139742%\n",
      "Percent error compared to hardcoded (x) angular factor = 0.139743%\n"
     ]
    }
   ],
   "source": [
    "print('Percent error compared to hardcoded (+) angular factor = {:3f}%'.format(((hcp-p)[0]/hcp)*100))\n",
    "print('Percent error compared to hardcoded (x) angular factor = {:3f}%'.format(((hcc-c)[0]/hcc)*100))"
   ]
  },
  {
   "cell_type": "code",
   "execution_count": null,
   "metadata": {},
   "outputs": [],
   "source": []
  }
 ],
 "metadata": {
  "kernelspec": {
   "display_name": "rd_jax",
   "language": "python",
   "name": "python3"
  },
  "language_info": {
   "codemirror_mode": {
    "name": "ipython",
    "version": 3
   },
   "file_extension": ".py",
   "mimetype": "text/x-python",
   "name": "python",
   "nbconvert_exporter": "python",
   "pygments_lexer": "ipython3",
   "version": "3.10.4"
  }
 },
 "nbformat": 4,
 "nbformat_minor": 2
}
